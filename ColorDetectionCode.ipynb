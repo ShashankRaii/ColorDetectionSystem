{
 "cells": [
  {
   "cell_type": "code",
   "execution_count": 1,
   "id": "84d4c993",
   "metadata": {},
   "outputs": [],
   "source": [
    "import cv2 #a library of Python bindings designed to solve computer vision problems\n",
    "import pandas as pd #to read the dataset values\n",
    "import csv"
   ]
  },
  {
   "cell_type": "code",
   "execution_count": 2,
   "id": "be95a50e",
   "metadata": {},
   "outputs": [],
   "source": [
    "# Global variables\n",
    "image_path = 'colorsimage.jpg'"
   ]
  },
  {
   "cell_type": "code",
   "execution_count": 3,
   "id": "e384695a",
   "metadata": {},
   "outputs": [],
   "source": [
    "index = ['color', 'color_name', 'hex', 'R', 'G', 'B'] #reading CSV files with pandas and give names to each each column\n",
    "csv = pd.read_csv('colors.csv', names=index, header=None)"
   ]
  },
  {
   "cell_type": "code",
   "execution_count": 4,
   "id": "007f1cee",
   "metadata": {},
   "outputs": [],
   "source": [
    "clicked = False #declaring global variables\n",
    "r = g = b = xpos = ypos = 0"
   ]
  },
  {
   "cell_type": "code",
   "execution_count": 5,
   "id": "8eab7a89",
   "metadata": {},
   "outputs": [],
   "source": [
    "def recognize_color(R, G, B): #function to calculate minimum distance from all colors and get the most matching color\n",
    "    minimum = 10000 #threshold value as 10000\n",
    "    for i in range(len(csv)): #we can loop through all the rows in our dataset\n",
    "        d = abs(R - int(csv.loc[i,'R'])) + abs(G - int(csv.loc[i,'G'])) + abs(B - int(csv.loc[i,'B']))\n",
    "        if d <= minimum:\n",
    "            minimum = d\n",
    "            cname = csv.loc[i,'color_name']\n",
    "    return cname"
   ]
  },
  {
   "cell_type": "code",
   "execution_count": 6,
   "id": "eb49efbe",
   "metadata": {},
   "outputs": [],
   "source": [
    "def mouse_click(event, x, y, flags, param):\n",
    "    # if event == cv2.EVENT_LBUTTONDBLCLK:\n",
    "    if event == cv2.EVENT_LBUTTONUP:\n",
    "        global b, g, r, xpos, ypos, clicked\n",
    "        clicked = True #earlier it is set to false but after the event it'll be set to true\n",
    "        xpos = x\n",
    "        ypos = y\n",
    "        \n",
    "        b, g, r = img[y,x] #in openCV rgb is called as bgr\n",
    "\n",
    "        b = int(b) #these values will hold the corresponding bgr value\n",
    "        g = int(g)\n",
    "        r = int(r)"
   ]
  },
  {
   "cell_type": "code",
   "execution_count": 7,
   "id": "8b2bb3b1",
   "metadata": {},
   "outputs": [],
   "source": [
    "# Startup\n",
    "cv2.namedWindow('Color Recognition') #A window will popup with an image\n",
    "cv2.setMouseCallback('Color Recognition', mouse_click) #drawfuction will be called with an image"
   ]
  },
  {
   "cell_type": "code",
   "execution_count": 8,
   "id": "4b2fcf95",
   "metadata": {},
   "outputs": [],
   "source": [
    "img = cv2.imread(image_path)"
   ]
  },
  {
   "cell_type": "code",
   "execution_count": 9,
   "id": "9e65313f",
   "metadata": {},
   "outputs": [],
   "source": [
    "while 1:\n",
    "    cv2.imshow('Color Recognition', img)\n",
    "    if clicked:\n",
    "        cv2.rectangle(img,(20,20), (750,60), (b,g,r), -1)\n",
    "\n",
    "        text = recognize_color(r,g,b) + ' R='+ str(r) +  ' G='+ str(g) +  ' B='+ str(b)\n",
    "        cv2.putText(img, text, (50,50), 2, 0.8, (255,255,255), 2, cv2.LINE_AA)\n",
    "\n",
    "        if r + g + b >= 600:\n",
    "            cv2.putText(img, text, (50,50), 2, 0.8, (0,0,0), 2, cv2.LINE_AA)\n",
    "            \n",
    "        clicked = False\n",
    "\n",
    "    if cv2.waitKey(20) & 0xFF == 27:\n",
    "        break"
   ]
  },
  {
   "cell_type": "code",
   "execution_count": 10,
   "id": "5d72e8d6",
   "metadata": {},
   "outputs": [],
   "source": [
    "cv2.destroyAllWindows()"
   ]
  },
  {
   "cell_type": "code",
   "execution_count": null,
   "id": "b3a08023",
   "metadata": {},
   "outputs": [],
   "source": []
  }
 ],
 "metadata": {
  "kernelspec": {
   "display_name": "Python 3 (ipykernel)",
   "language": "python",
   "name": "python3"
  },
  "language_info": {
   "codemirror_mode": {
    "name": "ipython",
    "version": 3
   },
   "file_extension": ".py",
   "mimetype": "text/x-python",
   "name": "python",
   "nbconvert_exporter": "python",
   "pygments_lexer": "ipython3",
   "version": "3.10.4"
  }
 },
 "nbformat": 4,
 "nbformat_minor": 5
}
